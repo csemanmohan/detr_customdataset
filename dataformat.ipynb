{
 "cells": [
  {
   "cell_type": "code",
   "execution_count": 182,
   "metadata": {},
   "outputs": [],
   "source": [
    "# For annotation.json to required CSV"
   ]
  },
  {
   "cell_type": "code",
   "execution_count": 3,
   "metadata": {},
   "outputs": [],
   "source": [
    "def convert_coco_json_to_csv(filename):\n",
    "    import pandas as pd\n",
    "    import json\n",
    "    from itertools import groupby \n",
    "    from operator import itemgetter\n",
    "    \n",
    "    # COCO2017/annotations/instances_val2017.json\n",
    "    s = json.load(open(filename, 'r'))\n",
    "    out_file = filename[:-5] + '.csv'\n",
    "#     out = open(out_file, 'w')\n",
    "#     out.write('image_id,width,height,bbox,source\\n')\n",
    "    \n",
    "    cat_list = []\n",
    "    for c in s['categories']:\n",
    "        name = c[\"name\"]+\"_\"+str(c[\"id\"])\n",
    "        cat_list.append(name)\n",
    "\n",
    "    all_name = []\n",
    "    for im in s['images']:\n",
    "#         all_name.append(im['file_name'].split(\"_jpg\")[0])\n",
    "        all_name.append(im['file_name'])\n",
    "\n",
    "    width_list= []\n",
    "    for im in s['images']:\n",
    "        width_list.append(im['width'])\n",
    "    \n",
    "    height_list = []\n",
    "    for im in s['images']:\n",
    "        height_list.append(im['height'])\n",
    "        \n",
    "    # for id in all_ids:\n",
    "    bbox = []\n",
    "    ids = []\n",
    "    cat = []\n",
    "\n",
    "    for ann in s[\"annotations\"]:\n",
    "        bbox.append(ann[\"bbox\"])\n",
    "        ids.append(ann[\"image_id\"])\n",
    "        cat.append(ann[\"category_id\"])\n",
    "        \n",
    "    \n",
    "#     out_file_df = pd.read_csv(out_file)\n",
    "    out_file_df = pd.DataFrame(columns=['image_id','width','height','bbox','source'])\n",
    "    \n",
    "    out_file_df[\"bbox\"] = bbox\n",
    "    out_file_df[\"image_id\"] = ids\n",
    "    out_file_df[\"source\"] = cat\n",
    "    \n",
    "    # Based on value present in height and width primary list, we will fill the dataframe\n",
    "    w=[]\n",
    "    h=[]\n",
    "    i =[]\n",
    "    s= []\n",
    "    for index, row in out_file_df.iterrows():\n",
    "        w.append(width_list[row[\"image_id\"]])\n",
    "        h.append(height_list[row[\"image_id\"]])\n",
    "        i.append(all_name[row[\"image_id\"]])\n",
    "        s.append(cat_list[row[\"source\"]])\n",
    "    print(\"Width list size..\", len(w))\n",
    "    print(\"Height list size..\", len(h))\n",
    "    print(\"image_name list size..\", len(i))\n",
    "    print(\"image_name list size..\", len(s))\n",
    "    \n",
    "    out_file_df[\"width\"]= w\n",
    "    out_file_df[\"height\"]= h\n",
    "    out_file_df[\"image_id\"]= i\n",
    "    out_file_df[\"source\"] = s\n",
    "    \n",
    "#     out_file_df.drop(['A'], axis = 1) \n",
    "    \n",
    "    out_file_df.to_csv(out_file, index=False)\n",
    "    \n",
    "\n",
    "    "
   ]
  },
  {
   "cell_type": "code",
   "execution_count": 5,
   "metadata": {},
   "outputs": [
    {
     "name": "stdout",
     "output_type": "stream",
     "text": [
      "Width list size.. 967\n",
      "Height list size.. 967\n",
      "image_name list size.. 967\n",
      "image_name list size.. 967\n"
     ]
    }
   ],
   "source": [
    "convert_coco_json_to_csv1(\"bccd/valid/_annotations.coco.json\")"
   ]
  },
  {
   "cell_type": "code",
   "execution_count": null,
   "metadata": {},
   "outputs": [],
   "source": []
  }
 ],
 "metadata": {
  "kernelspec": {
   "display_name": "Python 3",
   "language": "python",
   "name": "python3"
  },
  "language_info": {
   "codemirror_mode": {
    "name": "ipython",
    "version": 3
   },
   "file_extension": ".py",
   "mimetype": "text/x-python",
   "name": "python",
   "nbconvert_exporter": "python",
   "pygments_lexer": "ipython3",
   "version": "3.8.2"
  }
 },
 "nbformat": 4,
 "nbformat_minor": 4
}
